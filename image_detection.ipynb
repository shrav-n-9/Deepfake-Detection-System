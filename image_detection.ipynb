{
 "cells": [
  {
   "cell_type": "code",
   "execution_count": 1,
   "id": "53c38e89",
   "metadata": {},
   "outputs": [],
   "source": [
    "import os\n",
    "import torch\n",
    "import torch.nn as nn\n",
    "import torch.optim as optim\n",
    "from torch.utils.data import DataLoader, random_split\n",
    "from torchvision import datasets, transforms\n",
    "from timm import create_model\n",
    "from sklearn.metrics import roc_auc_score, classification_report, confusion_matrix\n",
    "import matplotlib.pyplot as plt\n",
    "from tqdm import tqdm\n",
    "from torch.cuda.amp import GradScaler, autocast  # Added for mixed precision"
   ]
  },
  {
   "cell_type": "code",
   "execution_count": 4,
   "id": "4e257551",
   "metadata": {},
   "outputs": [],
   "source": [
    "BASE_DIR = \"data\"\n",
    "TRAIN_DIR = os.path.join(BASE_DIR, \"train\")\n",
    "TEST_DIR  = os.path.join(BASE_DIR, \"test\")\n",
    "WORK_DIR  = \"work_pytorch\"\n",
    "os.makedirs(WORK_DIR, exist_ok=True)"
   ]
  },
  {
   "cell_type": "code",
   "execution_count": 2,
   "id": "ee6acc79",
   "metadata": {},
   "outputs": [
    {
     "data": {
      "text/plain": [
       "device(type='cuda')"
      ]
     },
     "execution_count": 2,
     "metadata": {},
     "output_type": "execute_result"
    }
   ],
   "source": [
    "IMG_SIZE = 299\n",
    "BATCH_SIZE = 32  # Try 32 or 64, adjust if OOM occurs\n",
    "EPOCHS = 20\n",
    "LR = 1e-4\n",
    "SEED = 42\n",
    "\n",
    "torch.manual_seed(SEED)\n",
    "device = torch.device(\"cuda\" if torch.cuda.is_available() else \"cpu\")\n",
    "device"
   ]
  },
  {
   "cell_type": "code",
   "execution_count": 5,
   "id": "55d2aa61",
   "metadata": {},
   "outputs": [
    {
     "name": "stdout",
     "output_type": "stream",
     "text": [
      "Fake: 22080, Real: 15319, Weights: tensor([0.8469, 1.2207], device='cuda:0')\n",
      "Train samples: 29919 Val samples: 7480 Test samples: 16672\n",
      "Classes: ['fake', 'real']\n"
     ]
    }
   ],
   "source": [
    "# Dataset\n",
    "train_tfms = transforms.Compose([\n",
    "    transforms.Resize((IMG_SIZE, IMG_SIZE)),\n",
    "    transforms.RandomHorizontalFlip(),\n",
    "    transforms.RandomRotation(10),\n",
    "    transforms.ColorJitter(brightness=0.2, contrast=0.2),\n",
    "    transforms.ToTensor(),\n",
    "    transforms.Normalize(mean=[0.485, 0.456, 0.406], std=[0.229, 0.224, 0.225])\n",
    "])\n",
    "\n",
    "test_tfms = transforms.Compose([\n",
    "    transforms.Resize((IMG_SIZE, IMG_SIZE)),\n",
    "    transforms.ToTensor(),\n",
    "    transforms.Normalize(mean=[0.485, 0.456, 0.406], std=[0.229, 0.224, 0.225])\n",
    "])\n",
    "\n",
    "train_ds = datasets.ImageFolder(TRAIN_DIR, transform=train_tfms)\n",
    "test_ds = datasets.ImageFolder(TEST_DIR, transform=test_tfms)\n",
    "\n",
    "# Calculate class weights for imbalance\n",
    "num_fake = len(os.listdir(os.path.join(TRAIN_DIR, 'fake')))\n",
    "num_real = len(os.listdir(os.path.join(TRAIN_DIR, 'real')))\n",
    "total_samples = num_fake + num_real\n",
    "class_weights = torch.tensor([total_samples / (2.0 * num_fake), total_samples / (2.0 * num_real)]).to(device)\n",
    "print(f\"Fake: {num_fake}, Real: {num_real}, Weights: {class_weights}\")\n",
    "\n",
    "# Split train into train/val\n",
    "train_size = int(0.8 * len(train_ds))\n",
    "val_size = len(train_ds) - train_size\n",
    "train_subset, val_subset = random_split(train_ds, [train_size, val_size])\n",
    "\n",
    "train_loader = DataLoader(train_subset, batch_size=BATCH_SIZE, shuffle=True, num_workers=4, pin_memory=True, prefetch_factor=2)\n",
    "val_loader = DataLoader(val_subset, batch_size=BATCH_SIZE, shuffle=False, num_workers=4, pin_memory=True, prefetch_factor=2)\n",
    "test_loader = DataLoader(test_ds, batch_size=BATCH_SIZE, shuffle=False, num_workers=4, pin_memory=True, prefetch_factor=2)\n",
    "\n",
    "print(\"Train samples:\", len(train_subset), \"Val samples:\", len(val_subset), \"Test samples:\", len(test_ds))\n",
    "print(\"Classes:\", train_ds.classes)"
   ]
  },
  {
   "cell_type": "code",
   "execution_count": 6,
   "id": "f754a00c",
   "metadata": {},
   "outputs": [
    {
     "name": "stderr",
     "output_type": "stream",
     "text": [
      "c:\\Users\\shrav\\Deepfake-Detection-System\\myenv\\lib\\site-packages\\timm\\models\\_factory.py:138: UserWarning: Mapping deprecated model name xception to current legacy_xception.\n",
      "  model = create_fn(\n",
      "c:\\Users\\shrav\\Deepfake-Detection-System\\myenv\\lib\\site-packages\\torch\\optim\\lr_scheduler.py:28: UserWarning: The verbose parameter is deprecated. Please use get_last_lr() to access the learning rate.\n",
      "  warnings.warn(\"The verbose parameter is deprecated. Please use get_last_lr() \"\n"
     ]
    }
   ],
   "source": [
    "model = create_model(\"xception\", pretrained=True, num_classes=2)\n",
    "model.to(device)\n",
    "\n",
    "criterion = nn.CrossEntropyLoss(weight=class_weights)\n",
    "optimizer = optim.Adam(model.parameters(), lr=LR)\n",
    "scheduler = optim.lr_scheduler.ReduceLROnPlateau(optimizer, mode='min', factor=0.1, patience=3, verbose=True)"
   ]
  },
  {
   "cell_type": "code",
   "execution_count": 7,
   "id": "3f5167db",
   "metadata": {},
   "outputs": [
    {
     "name": "stdout",
     "output_type": "stream",
     "text": [
      "Resuming training from epoch 20\n",
      "Training completed. Best model saved to work_pytorch\\xception_best.pth\n"
     ]
    }
   ],
   "source": [
    "import os\n",
    "from torch.cuda.amp import GradScaler, autocast  # Ensure these are imported\n",
    "\n",
    "# Initialize GradScaler for mixed precision\n",
    "scaler = GradScaler()\n",
    "\n",
    "# Check for existing checkpoint to resume training\n",
    "checkpoint_path = os.path.join(WORK_DIR, \"xception_checkpoint.pth\")\n",
    "start_epoch = 0\n",
    "if os.path.exists(checkpoint_path):\n",
    "    checkpoint = torch.load(checkpoint_path, map_location=device)\n",
    "    model.load_state_dict(checkpoint['model_state_dict'])\n",
    "    optimizer.load_state_dict(checkpoint['optimizer_state_dict'])\n",
    "    if 'scaler_state_dict' in checkpoint:  # Check if scaler state exists\n",
    "        scaler.load_state_dict(checkpoint['scaler_state_dict'])\n",
    "    start_epoch = checkpoint['epoch'] + 1\n",
    "    print(f\"Resuming training from epoch {start_epoch}\")\n",
    "else:\n",
    "    print(\"No checkpoint found, starting from epoch 1\")\n",
    "\n",
    "# Training loop with gradient accumulation\n",
    "accum_steps = 4  # Accumulate gradients over 4 steps (effective batch size = 32*4 = 128)\n",
    "best_val_loss = float('inf')\n",
    "for epoch in range(start_epoch, EPOCHS):\n",
    "    model.train()\n",
    "    total_loss, correct, total = 0, 0, 0\n",
    "    loop = tqdm(train_loader, desc=f\"Epoch {epoch+1}/{EPOCHS}\", leave=False)\n",
    "    optimizer.zero_grad()  # Clear gradients at start of epoch\n",
    "    for i, (imgs, labels) in enumerate(loop):\n",
    "        imgs, labels = imgs.to(device), labels.to(device)\n",
    "\n",
    "        with autocast():\n",
    "            outputs = model(imgs)\n",
    "            loss = criterion(outputs, labels) / accum_steps  # Normalize loss\n",
    "        scaler.scale(loss).backward()  # Accumulate scaled gradients\n",
    "\n",
    "        if (i + 1) % accum_steps == 0:  # Update every accum_steps\n",
    "            scaler.step(optimizer)\n",
    "            scaler.update()\n",
    "            optimizer.zero_grad()\n",
    "\n",
    "        total_loss += loss.item() * imgs.size(0) * accum_steps  # Unscale for logging\n",
    "        preds = outputs.argmax(1)\n",
    "        correct += (preds == labels).sum().item()\n",
    "        total += labels.size(0)\n",
    "\n",
    "        loop.set_postfix(loss=loss.item() * accum_steps)\n",
    "\n",
    "    # Final update if any gradients remain\n",
    "    if (i + 1) % accum_steps != 0:\n",
    "        scaler.step(optimizer)\n",
    "        scaler.update()\n",
    "        optimizer.zero_grad()\n",
    "\n",
    "    train_acc = correct / total\n",
    "    print(f\"Epoch {epoch+1}: Train Loss={total_loss/total:.4f}, Acc={train_acc:.4f}\")\n",
    "\n",
    "    # Validation\n",
    "    model.eval()\n",
    "    val_loss, val_correct, val_total = 0, 0, 0\n",
    "    with torch.no_grad():\n",
    "        for imgs, labels in tqdm(val_loader, desc=\"Validating\", leave=False):\n",
    "            imgs, labels = imgs.to(device), labels.to(device)\n",
    "            with autocast():\n",
    "                outputs = model(imgs)\n",
    "                loss = criterion(outputs, labels)\n",
    "            val_loss += loss.item() * imgs.size(0)\n",
    "            preds = outputs.argmax(1)\n",
    "            val_correct += (preds == labels).sum().item()\n",
    "            val_total += labels.size(0)\n",
    "    val_acc = val_correct / val_total\n",
    "    val_loss_avg = val_loss / val_total\n",
    "    print(f\"Epoch {epoch+1}: Val Loss={val_loss_avg:.4f}, Acc={val_acc:.4f}\")\n",
    "\n",
    "    # Step scheduler\n",
    "    scheduler.step(val_loss_avg)\n",
    "\n",
    "    # Save checkpoint after each epoch\n",
    "    torch.save({\n",
    "        'epoch': epoch,\n",
    "        'model_state_dict': model.state_dict(),\n",
    "        'optimizer_state_dict': optimizer.state_dict(),\n",
    "        'scaler_state_dict': scaler.state_dict(),\n",
    "        'val_loss': val_loss_avg\n",
    "    }, checkpoint_path)\n",
    "\n",
    "    # Save best model based on validation loss\n",
    "    if val_loss_avg < best_val_loss:\n",
    "        best_val_loss = val_loss_avg\n",
    "        torch.save(model.state_dict(), os.path.join(WORK_DIR, \"xception_best.pth\"))\n",
    "        print(f\"Saved best model with Val Loss={val_loss_avg:.4f}\")\n",
    "\n",
    "print(f\"Training completed. Best model saved to {os.path.join(WORK_DIR, 'xception_best.pth')}\")"
   ]
  },
  {
   "cell_type": "code",
   "execution_count": 8,
   "id": "6f6f4c76",
   "metadata": {},
   "outputs": [
    {
     "name": "stderr",
     "output_type": "stream",
     "text": [
      "Testing: 100%|██████████| 521/521 [04:08<00:00,  2.09it/s]\n"
     ]
    }
   ],
   "source": [
    "model.eval()\n",
    "all_labels, all_probs = [], []\n",
    "with torch.no_grad():\n",
    "    for imgs, labels in tqdm(test_loader, desc=\"Testing\"):\n",
    "        imgs = imgs.to(device)\n",
    "        outputs = model(imgs)\n",
    "        probs = torch.softmax(outputs, dim=1)[:, 0]  # Probability of fake (class 0)\n",
    "\n",
    "        all_labels.extend(labels.numpy())\n",
    "        all_probs.extend(probs.cpu().numpy())\n",
    "\n",
    "all_labels = torch.tensor(all_labels).numpy()\n",
    "all_probs = torch.tensor(all_probs).numpy()\n",
    "preds = (all_probs > 0.5).astype(int)"
   ]
  },
  {
   "cell_type": "code",
   "execution_count": 9,
   "id": "97eb7741",
   "metadata": {},
   "outputs": [
    {
     "name": "stdout",
     "output_type": "stream",
     "text": [
      "ROC AUC: 0.875878807989855\n",
      "              precision    recall  f1-score   support\n",
      "\n",
      "        real       0.53      0.94      0.68      3876\n",
      "        fake       0.97      0.75      0.85     12796\n",
      "\n",
      "    accuracy                           0.79     16672\n",
      "   macro avg       0.75      0.84      0.76     16672\n",
      "weighted avg       0.87      0.79      0.81     16672\n",
      "\n",
      "Confusion Matrix:\n",
      " [[3628  248]\n",
      " [3175 9621]]\n"
     ]
    }
   ],
   "source": [
    "print(\"ROC AUC:\", roc_auc_score(1 - all_labels, all_probs))  # Invert labels: fake=1, real=0\n",
    "print(classification_report(1 - all_labels, preds, target_names=['real', 'fake']))\n",
    "print(\"Confusion Matrix:\\n\", confusion_matrix(1 - all_labels, preds))"
   ]
  },
  {
   "cell_type": "code",
   "execution_count": 10,
   "id": "4f18a37b",
   "metadata": {},
   "outputs": [
    {
     "data": {
      "image/png": "[encoded data removed]",
      "text/plain": [
       "<Figure size 640x480 with 1 Axes>"
      ]
     },
     "metadata": {},
     "output_type": "display_data"
    }
   ],
   "source": [
    "from sklearn.metrics import roc_curve\n",
    "fpr, tpr, _ = roc_curve(1 - all_labels, all_probs)  # Invert labels for fake-positive\n",
    "plt.plot(fpr, tpr, label=f\"AUC={roc_auc_score(1 - all_labels, all_probs):.4f}\")\n",
    "plt.xlabel(\"FPR\"); plt.ylabel(\"TPR\"); plt.legend()\n",
    "plt.savefig(os.path.join(WORK_DIR, \"roc_curve.png\"))\n",
    "plt.show()"
   ]
  }
 ],
 "metadata": {
  "kernelspec": {
   "display_name": "myenv",
   "language": "python",
   "name": "myenv"
  },
  "language_info": {
   "codemirror_mode": {
    "name": "ipython",
    "version": 3
   },
   "file_extension": ".py",
   "mimetype": "text/x-python",
   "name": "python",
   "nbconvert_exporter": "python",
   "pygments_lexer": "ipython3",
   "version": "3.10.11"
  }
 },
 "nbformat": 4,
 "nbformat_minor": 5
}
